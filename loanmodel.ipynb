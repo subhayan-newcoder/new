{
 "cells": [
  {
   "cell_type": "code",
   "execution_count": 3,
   "metadata": {
    "id": "OTjSqk7sjl1G"
   },
   "outputs": [],
   "source": [
    "import numpy as np\n",
    "import pandas as pd\n",
    "import seaborn as sns\n",
    "import matplotlib.pyplot as plt\n",
    "from pprint import pprint"
   ]
  },
  {
   "cell_type": "code",
   "execution_count": 4,
   "metadata": {
    "id": "UgH96QUZj2Ae"
   },
   "outputs": [],
   "source": [
    "df = pd.read_csv('train_indessa.csv')"
   ]
  },
  {
   "cell_type": "code",
   "execution_count": 5,
   "metadata": {
    "colab": {
     "base_uri": "https://localhost:8080/",
     "height": 487
    },
    "id": "QzAaKHBHlqNL",
    "outputId": "09477769-2117-406d-f555-83ada98f3700"
   },
   "outputs": [
    {
     "data": {
      "text/html": [
       "<div>\n",
       "<style scoped>\n",
       "    .dataframe tbody tr th:only-of-type {\n",
       "        vertical-align: middle;\n",
       "    }\n",
       "\n",
       "    .dataframe tbody tr th {\n",
       "        vertical-align: top;\n",
       "    }\n",
       "\n",
       "    .dataframe thead th {\n",
       "        text-align: right;\n",
       "    }\n",
       "</style>\n",
       "<table border=\"1\" class=\"dataframe\">\n",
       "  <thead>\n",
       "    <tr style=\"text-align: right;\">\n",
       "      <th></th>\n",
       "      <th>member_id</th>\n",
       "      <th>loan_amnt</th>\n",
       "      <th>funded_amnt</th>\n",
       "      <th>funded_amnt_inv</th>\n",
       "      <th>term</th>\n",
       "      <th>batch_enrolled</th>\n",
       "      <th>int_rate</th>\n",
       "      <th>grade</th>\n",
       "      <th>sub_grade</th>\n",
       "      <th>emp_title</th>\n",
       "      <th>...</th>\n",
       "      <th>collections_12_mths_ex_med</th>\n",
       "      <th>mths_since_last_major_derog</th>\n",
       "      <th>application_type</th>\n",
       "      <th>verification_status_joint</th>\n",
       "      <th>last_week_pay</th>\n",
       "      <th>acc_now_delinq</th>\n",
       "      <th>tot_coll_amt</th>\n",
       "      <th>tot_cur_bal</th>\n",
       "      <th>total_rev_hi_lim</th>\n",
       "      <th>loan_status</th>\n",
       "    </tr>\n",
       "  </thead>\n",
       "  <tbody>\n",
       "    <tr>\n",
       "      <th>0</th>\n",
       "      <td>58189336</td>\n",
       "      <td>14350</td>\n",
       "      <td>14350</td>\n",
       "      <td>14350.0</td>\n",
       "      <td>36 months</td>\n",
       "      <td></td>\n",
       "      <td>19.19</td>\n",
       "      <td>E</td>\n",
       "      <td>E3</td>\n",
       "      <td>clerk</td>\n",
       "      <td>...</td>\n",
       "      <td>0.0</td>\n",
       "      <td>74.0</td>\n",
       "      <td>INDIVIDUAL</td>\n",
       "      <td>NaN</td>\n",
       "      <td>26th week</td>\n",
       "      <td>0.0</td>\n",
       "      <td>0.0</td>\n",
       "      <td>28699.0</td>\n",
       "      <td>30800.0</td>\n",
       "      <td>0</td>\n",
       "    </tr>\n",
       "    <tr>\n",
       "      <th>1</th>\n",
       "      <td>70011223</td>\n",
       "      <td>4800</td>\n",
       "      <td>4800</td>\n",
       "      <td>4800.0</td>\n",
       "      <td>36 months</td>\n",
       "      <td>BAT1586599</td>\n",
       "      <td>10.99</td>\n",
       "      <td>B</td>\n",
       "      <td>B4</td>\n",
       "      <td>Human Resources Specialist</td>\n",
       "      <td>...</td>\n",
       "      <td>0.0</td>\n",
       "      <td>NaN</td>\n",
       "      <td>INDIVIDUAL</td>\n",
       "      <td>NaN</td>\n",
       "      <td>9th week</td>\n",
       "      <td>0.0</td>\n",
       "      <td>0.0</td>\n",
       "      <td>9974.0</td>\n",
       "      <td>32900.0</td>\n",
       "      <td>0</td>\n",
       "    </tr>\n",
       "    <tr>\n",
       "      <th>2</th>\n",
       "      <td>70255675</td>\n",
       "      <td>10000</td>\n",
       "      <td>10000</td>\n",
       "      <td>10000.0</td>\n",
       "      <td>36 months</td>\n",
       "      <td>BAT1586599</td>\n",
       "      <td>7.26</td>\n",
       "      <td>A</td>\n",
       "      <td>A4</td>\n",
       "      <td>Driver</td>\n",
       "      <td>...</td>\n",
       "      <td>0.0</td>\n",
       "      <td>NaN</td>\n",
       "      <td>INDIVIDUAL</td>\n",
       "      <td>NaN</td>\n",
       "      <td>9th week</td>\n",
       "      <td>0.0</td>\n",
       "      <td>65.0</td>\n",
       "      <td>38295.0</td>\n",
       "      <td>34900.0</td>\n",
       "      <td>0</td>\n",
       "    </tr>\n",
       "    <tr>\n",
       "      <th>3</th>\n",
       "      <td>1893936</td>\n",
       "      <td>15000</td>\n",
       "      <td>15000</td>\n",
       "      <td>15000.0</td>\n",
       "      <td>36 months</td>\n",
       "      <td>BAT4808022</td>\n",
       "      <td>19.72</td>\n",
       "      <td>D</td>\n",
       "      <td>D5</td>\n",
       "      <td>Us office of Personnel Management</td>\n",
       "      <td>...</td>\n",
       "      <td>0.0</td>\n",
       "      <td>NaN</td>\n",
       "      <td>INDIVIDUAL</td>\n",
       "      <td>NaN</td>\n",
       "      <td>135th week</td>\n",
       "      <td>0.0</td>\n",
       "      <td>0.0</td>\n",
       "      <td>55564.0</td>\n",
       "      <td>24700.0</td>\n",
       "      <td>0</td>\n",
       "    </tr>\n",
       "    <tr>\n",
       "      <th>4</th>\n",
       "      <td>7652106</td>\n",
       "      <td>16000</td>\n",
       "      <td>16000</td>\n",
       "      <td>16000.0</td>\n",
       "      <td>36 months</td>\n",
       "      <td>BAT2833642</td>\n",
       "      <td>10.64</td>\n",
       "      <td>B</td>\n",
       "      <td>B2</td>\n",
       "      <td>LAUSD-HOLLYWOOD HIGH SCHOOL</td>\n",
       "      <td>...</td>\n",
       "      <td>0.0</td>\n",
       "      <td>NaN</td>\n",
       "      <td>INDIVIDUAL</td>\n",
       "      <td>NaN</td>\n",
       "      <td>96th week</td>\n",
       "      <td>0.0</td>\n",
       "      <td>0.0</td>\n",
       "      <td>47159.0</td>\n",
       "      <td>47033.0</td>\n",
       "      <td>0</td>\n",
       "    </tr>\n",
       "  </tbody>\n",
       "</table>\n",
       "<p>5 rows × 45 columns</p>\n",
       "</div>"
      ],
      "text/plain": [
       "   member_id  loan_amnt  funded_amnt  funded_amnt_inv       term  \\\n",
       "0   58189336      14350        14350          14350.0  36 months   \n",
       "1   70011223       4800         4800           4800.0  36 months   \n",
       "2   70255675      10000        10000          10000.0  36 months   \n",
       "3    1893936      15000        15000          15000.0  36 months   \n",
       "4    7652106      16000        16000          16000.0  36 months   \n",
       "\n",
       "  batch_enrolled  int_rate grade sub_grade                          emp_title  \\\n",
       "0                    19.19     E        E3                              clerk   \n",
       "1     BAT1586599     10.99     B        B4         Human Resources Specialist   \n",
       "2     BAT1586599      7.26     A        A4                             Driver   \n",
       "3     BAT4808022     19.72     D        D5  Us office of Personnel Management   \n",
       "4     BAT2833642     10.64     B        B2        LAUSD-HOLLYWOOD HIGH SCHOOL   \n",
       "\n",
       "   ... collections_12_mths_ex_med mths_since_last_major_derog  \\\n",
       "0  ...                        0.0                        74.0   \n",
       "1  ...                        0.0                         NaN   \n",
       "2  ...                        0.0                         NaN   \n",
       "3  ...                        0.0                         NaN   \n",
       "4  ...                        0.0                         NaN   \n",
       "\n",
       "   application_type verification_status_joint last_week_pay acc_now_delinq  \\\n",
       "0        INDIVIDUAL                       NaN     26th week            0.0   \n",
       "1        INDIVIDUAL                       NaN      9th week            0.0   \n",
       "2        INDIVIDUAL                       NaN      9th week            0.0   \n",
       "3        INDIVIDUAL                       NaN    135th week            0.0   \n",
       "4        INDIVIDUAL                       NaN     96th week            0.0   \n",
       "\n",
       "  tot_coll_amt tot_cur_bal total_rev_hi_lim loan_status  \n",
       "0          0.0     28699.0          30800.0           0  \n",
       "1          0.0      9974.0          32900.0           0  \n",
       "2         65.0     38295.0          34900.0           0  \n",
       "3          0.0     55564.0          24700.0           0  \n",
       "4          0.0     47159.0          47033.0           0  \n",
       "\n",
       "[5 rows x 45 columns]"
      ]
     },
     "execution_count": 5,
     "metadata": {},
     "output_type": "execute_result"
    }
   ],
   "source": [
    "df.head()"
   ]
  },
  {
   "cell_type": "code",
   "execution_count": 6,
   "metadata": {
    "colab": {
     "base_uri": "https://localhost:8080/"
    },
    "id": "tJk7MoPLmTd1",
    "outputId": "25182490-8f5e-4713-9182-eb772b6c59da"
   },
   "outputs": [
    {
     "name": "stdout",
     "output_type": "stream",
     "text": [
      "<class 'pandas.core.frame.DataFrame'>\n",
      "RangeIndex: 532428 entries, 0 to 532427\n",
      "Data columns (total 45 columns):\n",
      " #   Column                       Non-Null Count   Dtype  \n",
      "---  ------                       --------------   -----  \n",
      " 0   member_id                    532428 non-null  int64  \n",
      " 1   loan_amnt                    532428 non-null  int64  \n",
      " 2   funded_amnt                  532428 non-null  int64  \n",
      " 3   funded_amnt_inv              532428 non-null  float64\n",
      " 4   term                         532428 non-null  object \n",
      " 5   batch_enrolled               447279 non-null  object \n",
      " 6   int_rate                     532428 non-null  float64\n",
      " 7   grade                        532428 non-null  object \n",
      " 8   sub_grade                    532428 non-null  object \n",
      " 9   emp_title                    501595 non-null  object \n",
      " 10  emp_length                   505537 non-null  object \n",
      " 11  home_ownership               532428 non-null  object \n",
      " 12  annual_inc                   532425 non-null  float64\n",
      " 13  verification_status          532428 non-null  object \n",
      " 14  pymnt_plan                   532428 non-null  object \n",
      " 15  desc                         75599 non-null   object \n",
      " 16  purpose                      532428 non-null  object \n",
      " 17  title                        532338 non-null  object \n",
      " 18  zip_code                     532428 non-null  object \n",
      " 19  addr_state                   532428 non-null  object \n",
      " 20  dti                          532428 non-null  float64\n",
      " 21  delinq_2yrs                  532412 non-null  float64\n",
      " 22  inq_last_6mths               532412 non-null  float64\n",
      " 23  mths_since_last_delinq       259874 non-null  float64\n",
      " 24  mths_since_last_record       82123 non-null   float64\n",
      " 25  open_acc                     532412 non-null  float64\n",
      " 26  pub_rec                      532412 non-null  float64\n",
      " 27  revol_bal                    532428 non-null  float64\n",
      " 28  revol_util                   532141 non-null  float64\n",
      " 29  total_acc                    532412 non-null  float64\n",
      " 30  initial_list_status          532428 non-null  object \n",
      " 31  total_rec_int                532428 non-null  float64\n",
      " 32  total_rec_late_fee           532428 non-null  float64\n",
      " 33  recoveries                   532428 non-null  float64\n",
      " 34  collection_recovery_fee      532428 non-null  float64\n",
      " 35  collections_12_mths_ex_med   532333 non-null  float64\n",
      " 36  mths_since_last_major_derog  132980 non-null  float64\n",
      " 37  application_type             532428 non-null  object \n",
      " 38  verification_status_joint    305 non-null     object \n",
      " 39  last_week_pay                532428 non-null  object \n",
      " 40  acc_now_delinq               532412 non-null  float64\n",
      " 41  tot_coll_amt                 490424 non-null  float64\n",
      " 42  tot_cur_bal                  490424 non-null  float64\n",
      " 43  total_rev_hi_lim             490424 non-null  float64\n",
      " 44  loan_status                  532428 non-null  int64  \n",
      "dtypes: float64(23), int64(4), object(18)\n",
      "memory usage: 182.8+ MB\n"
     ]
    }
   ],
   "source": [
    "df.info()"
   ]
  },
  {
   "cell_type": "code",
   "execution_count": 7,
   "metadata": {
    "colab": {
     "base_uri": "https://localhost:8080/",
     "height": 1000
    },
    "id": "F43xn3yLnuj7",
    "outputId": "4b1625d7-6f80-4e81-c7d9-8ab515a2c9e1"
   },
   "outputs": [
    {
     "data": {
      "image/png": "[encoded data removed]",
      "text/plain": [
       "<Figure size 1440x1440 with 30 Axes>"
      ]
     },
     "metadata": {
      "needs_background": "light"
     },
     "output_type": "display_data"
    }
   ],
   "source": [
    "df.hist(bins=50, figsize=(20,20))\n",
    "plt.show()"
   ]
  },
  {
   "cell_type": "code",
   "execution_count": 8,
   "metadata": {
    "colab": {
     "base_uri": "https://localhost:8080/"
    },
    "id": "qr-vfP60pQ-5",
    "outputId": "813eafda-d7d2-480b-8608-13effd50180e"
   },
   "outputs": [
    {
     "data": {
      "text/plain": [
       "loan_status                    1.000000\n",
       "inq_last_6mths                 0.087339\n",
       "mths_since_last_record         0.073566\n",
       "total_rec_int                  0.038344\n",
       "mths_since_last_delinq         0.029236\n",
       "tot_cur_bal                    0.014579\n",
       "int_rate                       0.002590\n",
       "total_acc                     -0.002631\n",
       "total_rec_late_fee            -0.004353\n",
       "annual_inc                    -0.008596\n",
       "mths_since_last_major_derog   -0.010214\n",
       "tot_coll_amt                  -0.013165\n",
       "acc_now_delinq                -0.014415\n",
       "total_rev_hi_lim              -0.019547\n",
       "collections_12_mths_ex_med    -0.033922\n",
       "revol_bal                     -0.040051\n",
       "collection_recovery_fee       -0.042823\n",
       "delinq_2yrs                   -0.045717\n",
       "revol_util                    -0.047196\n",
       "pub_rec                       -0.048884\n",
       "recoveries                    -0.062084\n",
       "open_acc                      -0.065048\n",
       "loan_amnt                     -0.095713\n",
       "funded_amnt                   -0.097563\n",
       "funded_amnt_inv               -0.101877\n",
       "dti                           -0.134020\n",
       "member_id                     -0.489753\n",
       "Name: loan_status, dtype: float64"
      ]
     },
     "execution_count": 8,
     "metadata": {},
     "output_type": "execute_result"
    }
   ],
   "source": [
    "corr_matrix = df.corr()\n",
    "corr_matrix['loan_status'].sort_values(ascending = False)"
   ]
  },
  {
   "cell_type": "code",
   "execution_count": 9,
   "metadata": {
    "colab": {
     "base_uri": "https://localhost:8080/",
     "height": 1000
    },
    "id": "ELhwFc1Xvqsf",
    "outputId": "2f606c6a-5e0c-4e13-f215-e30decfe88fd"
   },
   "outputs": [
    {
     "data": {
      "image/png": "[encoded data removed]",
      "text/plain": [
       "<Figure size 1080x1080 with 2 Axes>"
      ]
     },
     "metadata": {
      "needs_background": "light"
     },
     "output_type": "display_data"
    }
   ],
   "source": [
    "fig = plt.figure(figsize=(15,15))\n",
    "sns.heatmap(corr_matrix, cmap=\"YlGnBu\")\n",
    "plt.show()"
   ]
  },
  {
   "cell_type": "code",
   "execution_count": 10,
   "metadata": {
    "id": "4j2gaph-j4b1"
   },
   "outputs": [],
   "source": [
    "from sklearn.impute import SimpleImputer\n",
    "imputer = SimpleImputer(strategy = 'median')"
   ]
  },
  {
   "cell_type": "code",
   "execution_count": 11,
   "metadata": {
    "colab": {
     "base_uri": "https://localhost:8080/"
    },
    "id": "rwblsRa4nT9d",
    "outputId": "283e6ed2-808e-46a7-831f-26a3a560f0ec"
   },
   "outputs": [
    {
     "name": "stdout",
     "output_type": "stream",
     "text": [
      "Index(['member_id', 'loan_amnt', 'funded_amnt', 'funded_amnt_inv', 'term',\n",
      "       'batch_enrolled', 'int_rate', 'grade', 'sub_grade', 'emp_title',\n",
      "       'emp_length', 'home_ownership', 'annual_inc', 'verification_status',\n",
      "       'pymnt_plan', 'desc', 'purpose', 'title', 'zip_code', 'addr_state',\n",
      "       'dti', 'delinq_2yrs', 'inq_last_6mths', 'mths_since_last_delinq',\n",
      "       'mths_since_last_record', 'open_acc', 'pub_rec', 'revol_bal',\n",
      "       'revol_util', 'total_acc', 'initial_list_status', 'total_rec_int',\n",
      "       'total_rec_late_fee', 'recoveries', 'collection_recovery_fee',\n",
      "       'collections_12_mths_ex_med', 'mths_since_last_major_derog',\n",
      "       'application_type', 'verification_status_joint', 'last_week_pay',\n",
      "       'acc_now_delinq', 'tot_coll_amt', 'tot_cur_bal', 'total_rev_hi_lim',\n",
      "       'loan_status'],\n",
      "      dtype='object')\n"
     ]
    }
   ],
   "source": [
    "print(df.columns)"
   ]
  },
  {
   "cell_type": "code",
   "execution_count": 12,
   "metadata": {
    "colab": {
     "base_uri": "https://localhost:8080/"
    },
    "id": "SxGSZNI3pelX",
    "outputId": "61c048e4-ea82-478e-d73d-f3e3ef1289f7"
   },
   "outputs": [
    {
     "name": "stdout",
     "output_type": "stream",
     "text": [
      "<class 'pandas.core.frame.DataFrame'>\n",
      "RangeIndex: 532428 entries, 0 to 532427\n",
      "Data columns (total 45 columns):\n",
      " #   Column                       Non-Null Count   Dtype  \n",
      "---  ------                       --------------   -----  \n",
      " 0   member_id                    532428 non-null  int64  \n",
      " 1   loan_amnt                    532428 non-null  int64  \n",
      " 2   funded_amnt                  532428 non-null  int64  \n",
      " 3   funded_amnt_inv              532428 non-null  float64\n",
      " 4   term                         532428 non-null  object \n",
      " 5   batch_enrolled               447279 non-null  object \n",
      " 6   int_rate                     532428 non-null  float64\n",
      " 7   grade                        532428 non-null  object \n",
      " 8   sub_grade                    532428 non-null  object \n",
      " 9   emp_title                    501595 non-null  object \n",
      " 10  emp_length                   505537 non-null  object \n",
      " 11  home_ownership               532428 non-null  object \n",
      " 12  annual_inc                   532425 non-null  float64\n",
      " 13  verification_status          532428 non-null  object \n",
      " 14  pymnt_plan                   532428 non-null  object \n",
      " 15  desc                         75599 non-null   object \n",
      " 16  purpose                      532428 non-null  object \n",
      " 17  title                        532338 non-null  object \n",
      " 18  zip_code                     532428 non-null  object \n",
      " 19  addr_state                   532428 non-null  object \n",
      " 20  dti                          532428 non-null  float64\n",
      " 21  delinq_2yrs                  532412 non-null  float64\n",
      " 22  inq_last_6mths               532412 non-null  float64\n",
      " 23  mths_since_last_delinq       259874 non-null  float64\n",
      " 24  mths_since_last_record       82123 non-null   float64\n",
      " 25  open_acc                     532412 non-null  float64\n",
      " 26  pub_rec                      532412 non-null  float64\n",
      " 27  revol_bal                    532428 non-null  float64\n",
      " 28  revol_util                   532141 non-null  float64\n",
      " 29  total_acc                    532412 non-null  float64\n",
      " 30  initial_list_status          532428 non-null  object \n",
      " 31  total_rec_int                532428 non-null  float64\n",
      " 32  total_rec_late_fee           532428 non-null  float64\n",
      " 33  recoveries                   532428 non-null  float64\n",
      " 34  collection_recovery_fee      532428 non-null  float64\n",
      " 35  collections_12_mths_ex_med   532333 non-null  float64\n",
      " 36  mths_since_last_major_derog  132980 non-null  float64\n",
      " 37  application_type             532428 non-null  object \n",
      " 38  verification_status_joint    305 non-null     object \n",
      " 39  last_week_pay                532428 non-null  object \n",
      " 40  acc_now_delinq               532412 non-null  float64\n",
      " 41  tot_coll_amt                 490424 non-null  float64\n",
      " 42  tot_cur_bal                  490424 non-null  float64\n",
      " 43  total_rev_hi_lim             490424 non-null  float64\n",
      " 44  loan_status                  532428 non-null  int64  \n",
      "dtypes: float64(23), int64(4), object(18)\n",
      "memory usage: 182.8+ MB\n"
     ]
    }
   ],
   "source": [
    "df.info()"
   ]
  },
  {
   "cell_type": "code",
   "execution_count": 13,
   "metadata": {
    "id": "2Ing3lNjnp2L"
   },
   "outputs": [],
   "source": [
    "df_num = df.drop(['member_id', 'funded_amnt', 'funded_amnt_inv', 'term', 'batch_enrolled', \n",
    "                  'grade', 'sub_grade', 'emp_title', 'emp_length', 'home_ownership','verification_status','pymnt_plan', 'desc', 'purpose', 'title', 'zip_code',\n",
    "                  'addr_state', 'initial_list_status', 'application_type', 'verification_status_joint', 'last_week_pay', 'loan_status'], axis = 1)"
   ]
  },
  {
   "cell_type": "code",
   "execution_count": 14,
   "metadata": {
    "colab": {
     "base_uri": "https://localhost:8080/"
    },
    "id": "TyNxV4Y3sFXc",
    "outputId": "52af41f8-f841-49f2-fa38-0d04dc405c27"
   },
   "outputs": [
    {
     "name": "stdout",
     "output_type": "stream",
     "text": [
      "Index(['loan_amnt', 'int_rate', 'annual_inc', 'dti', 'delinq_2yrs',\n",
      "       'inq_last_6mths', 'mths_since_last_delinq', 'mths_since_last_record',\n",
      "       'open_acc', 'pub_rec', 'revol_bal', 'revol_util', 'total_acc',\n",
      "       'total_rec_int', 'total_rec_late_fee', 'recoveries',\n",
      "       'collection_recovery_fee', 'collections_12_mths_ex_med',\n",
      "       'mths_since_last_major_derog', 'acc_now_delinq', 'tot_coll_amt',\n",
      "       'tot_cur_bal', 'total_rev_hi_lim'],\n",
      "      dtype='object')\n"
     ]
    }
   ],
   "source": [
    "print(df_num.columns)\n",
    "df_num_columns = df_num.columns"
   ]
  },
  {
   "cell_type": "code",
   "execution_count": 15,
   "metadata": {
    "colab": {
     "base_uri": "https://localhost:8080/",
     "height": 227
    },
    "id": "m1Dednv0s1g1",
    "outputId": "8c44eb0b-8d6e-4c0c-bea9-ca32c8db421d"
   },
   "outputs": [
    {
     "data": {
      "text/html": [
       "<div>\n",
       "<style scoped>\n",
       "    .dataframe tbody tr th:only-of-type {\n",
       "        vertical-align: middle;\n",
       "    }\n",
       "\n",
       "    .dataframe tbody tr th {\n",
       "        vertical-align: top;\n",
       "    }\n",
       "\n",
       "    .dataframe thead th {\n",
       "        text-align: right;\n",
       "    }\n",
       "</style>\n",
       "<table border=\"1\" class=\"dataframe\">\n",
       "  <thead>\n",
       "    <tr style=\"text-align: right;\">\n",
       "      <th></th>\n",
       "      <th>loan_amnt</th>\n",
       "      <th>int_rate</th>\n",
       "      <th>annual_inc</th>\n",
       "      <th>dti</th>\n",
       "      <th>delinq_2yrs</th>\n",
       "      <th>inq_last_6mths</th>\n",
       "      <th>mths_since_last_delinq</th>\n",
       "      <th>mths_since_last_record</th>\n",
       "      <th>open_acc</th>\n",
       "      <th>pub_rec</th>\n",
       "      <th>...</th>\n",
       "      <th>total_rec_int</th>\n",
       "      <th>total_rec_late_fee</th>\n",
       "      <th>recoveries</th>\n",
       "      <th>collection_recovery_fee</th>\n",
       "      <th>collections_12_mths_ex_med</th>\n",
       "      <th>mths_since_last_major_derog</th>\n",
       "      <th>acc_now_delinq</th>\n",
       "      <th>tot_coll_amt</th>\n",
       "      <th>tot_cur_bal</th>\n",
       "      <th>total_rev_hi_lim</th>\n",
       "    </tr>\n",
       "  </thead>\n",
       "  <tbody>\n",
       "    <tr>\n",
       "      <th>0</th>\n",
       "      <td>14350</td>\n",
       "      <td>19.19</td>\n",
       "      <td>28700.0</td>\n",
       "      <td>33.88</td>\n",
       "      <td>0.0</td>\n",
       "      <td>1.0</td>\n",
       "      <td>50.0</td>\n",
       "      <td>75.0</td>\n",
       "      <td>14.0</td>\n",
       "      <td>1.0</td>\n",
       "      <td>...</td>\n",
       "      <td>1173.84</td>\n",
       "      <td>0.0</td>\n",
       "      <td>0.0</td>\n",
       "      <td>0.0</td>\n",
       "      <td>0.0</td>\n",
       "      <td>74.0</td>\n",
       "      <td>0.0</td>\n",
       "      <td>0.0</td>\n",
       "      <td>28699.0</td>\n",
       "      <td>30800.0</td>\n",
       "    </tr>\n",
       "    <tr>\n",
       "      <th>1</th>\n",
       "      <td>4800</td>\n",
       "      <td>10.99</td>\n",
       "      <td>65000.0</td>\n",
       "      <td>3.64</td>\n",
       "      <td>0.0</td>\n",
       "      <td>1.0</td>\n",
       "      <td>NaN</td>\n",
       "      <td>NaN</td>\n",
       "      <td>6.0</td>\n",
       "      <td>0.0</td>\n",
       "      <td>...</td>\n",
       "      <td>83.95</td>\n",
       "      <td>0.0</td>\n",
       "      <td>0.0</td>\n",
       "      <td>0.0</td>\n",
       "      <td>0.0</td>\n",
       "      <td>NaN</td>\n",
       "      <td>0.0</td>\n",
       "      <td>0.0</td>\n",
       "      <td>9974.0</td>\n",
       "      <td>32900.0</td>\n",
       "    </tr>\n",
       "    <tr>\n",
       "      <th>2</th>\n",
       "      <td>10000</td>\n",
       "      <td>7.26</td>\n",
       "      <td>45000.0</td>\n",
       "      <td>18.42</td>\n",
       "      <td>0.0</td>\n",
       "      <td>0.0</td>\n",
       "      <td>NaN</td>\n",
       "      <td>NaN</td>\n",
       "      <td>5.0</td>\n",
       "      <td>0.0</td>\n",
       "      <td>...</td>\n",
       "      <td>56.47</td>\n",
       "      <td>0.0</td>\n",
       "      <td>0.0</td>\n",
       "      <td>0.0</td>\n",
       "      <td>0.0</td>\n",
       "      <td>NaN</td>\n",
       "      <td>0.0</td>\n",
       "      <td>65.0</td>\n",
       "      <td>38295.0</td>\n",
       "      <td>34900.0</td>\n",
       "    </tr>\n",
       "    <tr>\n",
       "      <th>3</th>\n",
       "      <td>15000</td>\n",
       "      <td>19.72</td>\n",
       "      <td>105000.0</td>\n",
       "      <td>14.97</td>\n",
       "      <td>0.0</td>\n",
       "      <td>2.0</td>\n",
       "      <td>46.0</td>\n",
       "      <td>NaN</td>\n",
       "      <td>10.0</td>\n",
       "      <td>0.0</td>\n",
       "      <td>...</td>\n",
       "      <td>4858.62</td>\n",
       "      <td>0.0</td>\n",
       "      <td>0.0</td>\n",
       "      <td>0.0</td>\n",
       "      <td>0.0</td>\n",
       "      <td>NaN</td>\n",
       "      <td>0.0</td>\n",
       "      <td>0.0</td>\n",
       "      <td>55564.0</td>\n",
       "      <td>24700.0</td>\n",
       "    </tr>\n",
       "    <tr>\n",
       "      <th>4</th>\n",
       "      <td>16000</td>\n",
       "      <td>10.64</td>\n",
       "      <td>52000.0</td>\n",
       "      <td>20.16</td>\n",
       "      <td>0.0</td>\n",
       "      <td>0.0</td>\n",
       "      <td>NaN</td>\n",
       "      <td>NaN</td>\n",
       "      <td>11.0</td>\n",
       "      <td>0.0</td>\n",
       "      <td>...</td>\n",
       "      <td>2296.41</td>\n",
       "      <td>0.0</td>\n",
       "      <td>0.0</td>\n",
       "      <td>0.0</td>\n",
       "      <td>0.0</td>\n",
       "      <td>NaN</td>\n",
       "      <td>0.0</td>\n",
       "      <td>0.0</td>\n",
       "      <td>47159.0</td>\n",
       "      <td>47033.0</td>\n",
       "    </tr>\n",
       "  </tbody>\n",
       "</table>\n",
       "<p>5 rows × 23 columns</p>\n",
       "</div>"
      ],
      "text/plain": [
       "   loan_amnt  int_rate  annual_inc    dti  delinq_2yrs  inq_last_6mths  \\\n",
       "0      14350     19.19     28700.0  33.88          0.0             1.0   \n",
       "1       4800     10.99     65000.0   3.64          0.0             1.0   \n",
       "2      10000      7.26     45000.0  18.42          0.0             0.0   \n",
       "3      15000     19.72    105000.0  14.97          0.0             2.0   \n",
       "4      16000     10.64     52000.0  20.16          0.0             0.0   \n",
       "\n",
       "   mths_since_last_delinq  mths_since_last_record  open_acc  pub_rec  ...  \\\n",
       "0                    50.0                    75.0      14.0      1.0  ...   \n",
       "1                     NaN                     NaN       6.0      0.0  ...   \n",
       "2                     NaN                     NaN       5.0      0.0  ...   \n",
       "3                    46.0                     NaN      10.0      0.0  ...   \n",
       "4                     NaN                     NaN      11.0      0.0  ...   \n",
       "\n",
       "   total_rec_int  total_rec_late_fee  recoveries  collection_recovery_fee  \\\n",
       "0        1173.84                 0.0         0.0                      0.0   \n",
       "1          83.95                 0.0         0.0                      0.0   \n",
       "2          56.47                 0.0         0.0                      0.0   \n",
       "3        4858.62                 0.0         0.0                      0.0   \n",
       "4        2296.41                 0.0         0.0                      0.0   \n",
       "\n",
       "   collections_12_mths_ex_med  mths_since_last_major_derog  acc_now_delinq  \\\n",
       "0                         0.0                         74.0             0.0   \n",
       "1                         0.0                          NaN             0.0   \n",
       "2                         0.0                          NaN             0.0   \n",
       "3                         0.0                          NaN             0.0   \n",
       "4                         0.0                          NaN             0.0   \n",
       "\n",
       "   tot_coll_amt  tot_cur_bal  total_rev_hi_lim  \n",
       "0           0.0      28699.0           30800.0  \n",
       "1           0.0       9974.0           32900.0  \n",
       "2          65.0      38295.0           34900.0  \n",
       "3           0.0      55564.0           24700.0  \n",
       "4           0.0      47159.0           47033.0  \n",
       "\n",
       "[5 rows x 23 columns]"
      ]
     },
     "execution_count": 15,
     "metadata": {},
     "output_type": "execute_result"
    }
   ],
   "source": [
    "df_num.head()"
   ]
  },
  {
   "cell_type": "code",
   "execution_count": 16,
   "metadata": {
    "id": "eD-YtI-_sJZu"
   },
   "outputs": [],
   "source": [
    "df_num = imputer.fit_transform(df_num)"
   ]
  },
  {
   "cell_type": "code",
   "execution_count": 17,
   "metadata": {
    "colab": {
     "base_uri": "https://localhost:8080/"
    },
    "id": "uC8kqLAlsxDw",
    "outputId": "6802c82a-fc8f-4e5b-ce20-3acd433e41e0"
   },
   "outputs": [
    {
     "name": "stdout",
     "output_type": "stream",
     "text": [
      "[1.43500e+04 1.91900e+01 2.87000e+04 3.38800e+01 0.00000e+00 1.00000e+00\n",
      " 5.00000e+01 7.50000e+01 1.40000e+01 1.00000e+00 2.25150e+04 7.31000e+01\n",
      " 2.80000e+01 1.17384e+03 0.00000e+00 0.00000e+00 0.00000e+00 0.00000e+00\n",
      " 7.40000e+01 0.00000e+00 0.00000e+00 2.86990e+04 3.08000e+04]\n"
     ]
    }
   ],
   "source": [
    "print(df_num[0])"
   ]
  },
  {
   "cell_type": "code",
   "execution_count": 18,
   "metadata": {
    "id": "orvcNwkLtMiw"
   },
   "outputs": [],
   "source": [
    "df_num = pd.DataFrame(data = df_num, columns= df_num_columns)"
   ]
  },
  {
   "cell_type": "code",
   "execution_count": 19,
   "metadata": {
    "colab": {
     "base_uri": "https://localhost:8080/",
     "height": 227
    },
    "id": "qiMlfO99xTj9",
    "outputId": "cd6ff5f2-7059-4fbe-8416-6c8f1dbea923"
   },
   "outputs": [
    {
     "data": {
      "text/html": [
       "<div>\n",
       "<style scoped>\n",
       "    .dataframe tbody tr th:only-of-type {\n",
       "        vertical-align: middle;\n",
       "    }\n",
       "\n",
       "    .dataframe tbody tr th {\n",
       "        vertical-align: top;\n",
       "    }\n",
       "\n",
       "    .dataframe thead th {\n",
       "        text-align: right;\n",
       "    }\n",
       "</style>\n",
       "<table border=\"1\" class=\"dataframe\">\n",
       "  <thead>\n",
       "    <tr style=\"text-align: right;\">\n",
       "      <th></th>\n",
       "      <th>loan_amnt</th>\n",
       "      <th>int_rate</th>\n",
       "      <th>annual_inc</th>\n",
       "      <th>dti</th>\n",
       "      <th>delinq_2yrs</th>\n",
       "      <th>inq_last_6mths</th>\n",
       "      <th>mths_since_last_delinq</th>\n",
       "      <th>mths_since_last_record</th>\n",
       "      <th>open_acc</th>\n",
       "      <th>pub_rec</th>\n",
       "      <th>...</th>\n",
       "      <th>total_rec_int</th>\n",
       "      <th>total_rec_late_fee</th>\n",
       "      <th>recoveries</th>\n",
       "      <th>collection_recovery_fee</th>\n",
       "      <th>collections_12_mths_ex_med</th>\n",
       "      <th>mths_since_last_major_derog</th>\n",
       "      <th>acc_now_delinq</th>\n",
       "      <th>tot_coll_amt</th>\n",
       "      <th>tot_cur_bal</th>\n",
       "      <th>total_rev_hi_lim</th>\n",
       "    </tr>\n",
       "  </thead>\n",
       "  <tbody>\n",
       "    <tr>\n",
       "      <th>0</th>\n",
       "      <td>14350.0</td>\n",
       "      <td>19.19</td>\n",
       "      <td>28700.0</td>\n",
       "      <td>33.88</td>\n",
       "      <td>0.0</td>\n",
       "      <td>1.0</td>\n",
       "      <td>50.0</td>\n",
       "      <td>75.0</td>\n",
       "      <td>14.0</td>\n",
       "      <td>1.0</td>\n",
       "      <td>...</td>\n",
       "      <td>1173.84</td>\n",
       "      <td>0.0</td>\n",
       "      <td>0.0</td>\n",
       "      <td>0.0</td>\n",
       "      <td>0.0</td>\n",
       "      <td>74.0</td>\n",
       "      <td>0.0</td>\n",
       "      <td>0.0</td>\n",
       "      <td>28699.0</td>\n",
       "      <td>30800.0</td>\n",
       "    </tr>\n",
       "    <tr>\n",
       "      <th>1</th>\n",
       "      <td>4800.0</td>\n",
       "      <td>10.99</td>\n",
       "      <td>65000.0</td>\n",
       "      <td>3.64</td>\n",
       "      <td>0.0</td>\n",
       "      <td>1.0</td>\n",
       "      <td>31.0</td>\n",
       "      <td>70.0</td>\n",
       "      <td>6.0</td>\n",
       "      <td>0.0</td>\n",
       "      <td>...</td>\n",
       "      <td>83.95</td>\n",
       "      <td>0.0</td>\n",
       "      <td>0.0</td>\n",
       "      <td>0.0</td>\n",
       "      <td>0.0</td>\n",
       "      <td>44.0</td>\n",
       "      <td>0.0</td>\n",
       "      <td>0.0</td>\n",
       "      <td>9974.0</td>\n",
       "      <td>32900.0</td>\n",
       "    </tr>\n",
       "    <tr>\n",
       "      <th>2</th>\n",
       "      <td>10000.0</td>\n",
       "      <td>7.26</td>\n",
       "      <td>45000.0</td>\n",
       "      <td>18.42</td>\n",
       "      <td>0.0</td>\n",
       "      <td>0.0</td>\n",
       "      <td>31.0</td>\n",
       "      <td>70.0</td>\n",
       "      <td>5.0</td>\n",
       "      <td>0.0</td>\n",
       "      <td>...</td>\n",
       "      <td>56.47</td>\n",
       "      <td>0.0</td>\n",
       "      <td>0.0</td>\n",
       "      <td>0.0</td>\n",
       "      <td>0.0</td>\n",
       "      <td>44.0</td>\n",
       "      <td>0.0</td>\n",
       "      <td>65.0</td>\n",
       "      <td>38295.0</td>\n",
       "      <td>34900.0</td>\n",
       "    </tr>\n",
       "    <tr>\n",
       "      <th>3</th>\n",
       "      <td>15000.0</td>\n",
       "      <td>19.72</td>\n",
       "      <td>105000.0</td>\n",
       "      <td>14.97</td>\n",
       "      <td>0.0</td>\n",
       "      <td>2.0</td>\n",
       "      <td>46.0</td>\n",
       "      <td>70.0</td>\n",
       "      <td>10.0</td>\n",
       "      <td>0.0</td>\n",
       "      <td>...</td>\n",
       "      <td>4858.62</td>\n",
       "      <td>0.0</td>\n",
       "      <td>0.0</td>\n",
       "      <td>0.0</td>\n",
       "      <td>0.0</td>\n",
       "      <td>44.0</td>\n",
       "      <td>0.0</td>\n",
       "      <td>0.0</td>\n",
       "      <td>55564.0</td>\n",
       "      <td>24700.0</td>\n",
       "    </tr>\n",
       "    <tr>\n",
       "      <th>4</th>\n",
       "      <td>16000.0</td>\n",
       "      <td>10.64</td>\n",
       "      <td>52000.0</td>\n",
       "      <td>20.16</td>\n",
       "      <td>0.0</td>\n",
       "      <td>0.0</td>\n",
       "      <td>31.0</td>\n",
       "      <td>70.0</td>\n",
       "      <td>11.0</td>\n",
       "      <td>0.0</td>\n",
       "      <td>...</td>\n",
       "      <td>2296.41</td>\n",
       "      <td>0.0</td>\n",
       "      <td>0.0</td>\n",
       "      <td>0.0</td>\n",
       "      <td>0.0</td>\n",
       "      <td>44.0</td>\n",
       "      <td>0.0</td>\n",
       "      <td>0.0</td>\n",
       "      <td>47159.0</td>\n",
       "      <td>47033.0</td>\n",
       "    </tr>\n",
       "  </tbody>\n",
       "</table>\n",
       "<p>5 rows × 23 columns</p>\n",
       "</div>"
      ],
      "text/plain": [
       "   loan_amnt  int_rate  annual_inc    dti  delinq_2yrs  inq_last_6mths  \\\n",
       "0    14350.0     19.19     28700.0  33.88          0.0             1.0   \n",
       "1     4800.0     10.99     65000.0   3.64          0.0             1.0   \n",
       "2    10000.0      7.26     45000.0  18.42          0.0             0.0   \n",
       "3    15000.0     19.72    105000.0  14.97          0.0             2.0   \n",
       "4    16000.0     10.64     52000.0  20.16          0.0             0.0   \n",
       "\n",
       "   mths_since_last_delinq  mths_since_last_record  open_acc  pub_rec  ...  \\\n",
       "0                    50.0                    75.0      14.0      1.0  ...   \n",
       "1                    31.0                    70.0       6.0      0.0  ...   \n",
       "2                    31.0                    70.0       5.0      0.0  ...   \n",
       "3                    46.0                    70.0      10.0      0.0  ...   \n",
       "4                    31.0                    70.0      11.0      0.0  ...   \n",
       "\n",
       "   total_rec_int  total_rec_late_fee  recoveries  collection_recovery_fee  \\\n",
       "0        1173.84                 0.0         0.0                      0.0   \n",
       "1          83.95                 0.0         0.0                      0.0   \n",
       "2          56.47                 0.0         0.0                      0.0   \n",
       "3        4858.62                 0.0         0.0                      0.0   \n",
       "4        2296.41                 0.0         0.0                      0.0   \n",
       "\n",
       "   collections_12_mths_ex_med  mths_since_last_major_derog  acc_now_delinq  \\\n",
       "0                         0.0                         74.0             0.0   \n",
       "1                         0.0                         44.0             0.0   \n",
       "2                         0.0                         44.0             0.0   \n",
       "3                         0.0                         44.0             0.0   \n",
       "4                         0.0                         44.0             0.0   \n",
       "\n",
       "   tot_coll_amt  tot_cur_bal  total_rev_hi_lim  \n",
       "0           0.0      28699.0           30800.0  \n",
       "1           0.0       9974.0           32900.0  \n",
       "2          65.0      38295.0           34900.0  \n",
       "3           0.0      55564.0           24700.0  \n",
       "4           0.0      47159.0           47033.0  \n",
       "\n",
       "[5 rows x 23 columns]"
      ]
     },
     "execution_count": 19,
     "metadata": {},
     "output_type": "execute_result"
    }
   ],
   "source": [
    "df_num.head()"
   ]
  },
  {
   "cell_type": "code",
   "execution_count": 20,
   "metadata": {
    "id": "5jDx1WirxXcV"
   },
   "outputs": [],
   "source": [
    "df_cat = df[[ 'grade', 'sub_grade', 'emp_length', 'home_ownership','verification_status','pymnt_plan', 'purpose', 'title', \n",
    "                  'addr_state', 'initial_list_status', 'application_type']]"
   ]
  },
  {
   "cell_type": "code",
   "execution_count": 21,
   "metadata": {
    "id": "1VjZtgogyair"
   },
   "outputs": [],
   "source": [
    "from sklearn.preprocessing import OneHotEncoder\n",
    "cat_encoder = OneHotEncoder()"
   ]
  },
  {
   "cell_type": "code",
   "execution_count": 22,
   "metadata": {
    "id": "jP1QWcigys2F"
   },
   "outputs": [],
   "source": [
    "df_cat_columns = df_cat.columns"
   ]
  },
  {
   "cell_type": "code",
   "execution_count": 23,
   "metadata": {
    "id": "_-Ic9iC23aHB"
   },
   "outputs": [],
   "source": [
    "import missingno as msno"
   ]
  },
  {
   "cell_type": "code",
   "execution_count": 24,
   "metadata": {
    "colab": {
     "base_uri": "https://localhost:8080/",
     "height": 726
    },
    "id": "5mjwIBY93jWO",
    "outputId": "263ae3dd-2e23-4eb4-ab3a-3b6f2d58ade8"
   },
   "outputs": [
    {
     "data": {
      "text/plain": [
       "<AxesSubplot:>"
      ]
     },
     "execution_count": 24,
     "metadata": {},
     "output_type": "execute_result"
    },
    {
     "data": {
      "image/png": "[encoded data removed]",
      "text/plain": [
       "<Figure size 1800x720 with 2 Axes>"
      ]
     },
     "metadata": {
      "needs_background": "light"
     },
     "output_type": "display_data"
    }
   ],
   "source": [
    "msno.matrix(df_cat)"
   ]
  },
  {
   "cell_type": "code",
   "execution_count": 25,
   "metadata": {
    "colab": {
     "base_uri": "https://localhost:8080/"
    },
    "id": "EE4lMmmH5swZ",
    "outputId": "21861b31-37eb-453c-df91-030857b62377"
   },
   "outputs": [
    {
     "name": "stdout",
     "output_type": "stream",
     "text": [
      "grade                      0\n",
      "sub_grade                  0\n",
      "emp_length             26891\n",
      "home_ownership             0\n",
      "verification_status        0\n",
      "pymnt_plan                 0\n",
      "purpose                    0\n",
      "title                     90\n",
      "addr_state                 0\n",
      "initial_list_status        0\n",
      "application_type           0\n",
      "dtype: int64\n",
      "(532428, 11)\n"
     ]
    }
   ],
   "source": [
    "print(df_cat.isnull().sum())\n",
    "print(df_cat.shape)"
   ]
  },
  {
   "cell_type": "code",
   "execution_count": 26,
   "metadata": {
    "colab": {
     "base_uri": "https://localhost:8080/"
    },
    "id": "IV6UHdth6ojH",
    "outputId": "c5830e5a-54fd-4984-8ebb-942264f8df08"
   },
   "outputs": [
    {
     "name": "stderr",
     "output_type": "stream",
     "text": [
      "<ipython-input-26-d324ce610e1b>:1: SettingWithCopyWarning: \n",
      "A value is trying to be set on a copy of a slice from a DataFrame.\n",
      "Try using .loc[row_indexer,col_indexer] = value instead\n",
      "\n",
      "See the caveats in the documentation: https://pandas.pydata.org/pandas-docs/stable/user_guide/indexing.html#returning-a-view-versus-a-copy\n",
      "  df_cat['emp_length'] = df_cat['emp_length'].fillna('U')\n",
      "<ipython-input-26-d324ce610e1b>:2: SettingWithCopyWarning: \n",
      "A value is trying to be set on a copy of a slice from a DataFrame.\n",
      "Try using .loc[row_indexer,col_indexer] = value instead\n",
      "\n",
      "See the caveats in the documentation: https://pandas.pydata.org/pandas-docs/stable/user_guide/indexing.html#returning-a-view-versus-a-copy\n",
      "  df_cat['title'] = df_cat['title'].fillna('V')\n"
     ]
    }
   ],
   "source": [
    "df_cat['emp_length'] = df_cat['emp_length'].fillna('U')\n",
    "df_cat['title'] = df_cat['title'].fillna('V')"
   ]
  },
  {
   "cell_type": "code",
   "execution_count": 27,
   "metadata": {
    "colab": {
     "base_uri": "https://localhost:8080/"
    },
    "id": "rv62yVgl7MJA",
    "outputId": "e20a9a54-5521-4ac2-82c8-faacc09d0b38"
   },
   "outputs": [
    {
     "name": "stdout",
     "output_type": "stream",
     "text": [
      "grade                  0\n",
      "sub_grade              0\n",
      "emp_length             0\n",
      "home_ownership         0\n",
      "verification_status    0\n",
      "pymnt_plan             0\n",
      "purpose                0\n",
      "title                  0\n",
      "addr_state             0\n",
      "initial_list_status    0\n",
      "application_type       0\n",
      "dtype: int64\n",
      "(532428, 11)\n"
     ]
    }
   ],
   "source": [
    "print(df_cat.isnull().sum())\n",
    "print(df_cat.shape)"
   ]
  },
  {
   "cell_type": "code",
   "execution_count": 28,
   "metadata": {
    "colab": {
     "base_uri": "https://localhost:8080/",
     "height": 726
    },
    "id": "T-YB9f1iKeMJ",
    "outputId": "b343fc44-b9f9-482a-b5e0-f7ddbb01b0cb"
   },
   "outputs": [
    {
     "data": {
      "text/plain": [
       "<Figure size 720x720 with 0 Axes>"
      ]
     },
     "metadata": {},
     "output_type": "display_data"
    },
    {
     "data": {
      "image/png": "[encoded data removed]",
      "text/plain": [
       "<Figure size 1800x720 with 2 Axes>"
      ]
     },
     "metadata": {
      "needs_background": "light"
     },
     "output_type": "display_data"
    }
   ],
   "source": [
    "fig = plt.figure(figsize=(10,10))\n",
    "msno.matrix(df_cat)\n",
    "plt.show()"
   ]
  },
  {
   "cell_type": "code",
   "execution_count": 29,
   "metadata": {
    "colab": {
     "base_uri": "https://localhost:8080/"
    },
    "id": "JLseW4EkQppn",
    "outputId": "13195bc2-18ae-4e70-c0ce-4404df8a87b9"
   },
   "outputs": [
    {
     "name": "stdout",
     "output_type": "stream",
     "text": [
      "grade  sub_grade  emp_length  home_ownership  verification_status  pymnt_plan  purpose             title                           addr_state  initial_list_status  application_type\n",
      "C      C1         10+ years   RENT            Source Verified      n           debt_consolidation  Debt consolidation              CA          w                    INDIVIDUAL          108\n",
      "       C2         10+ years   RENT            Source Verified      n           debt_consolidation  Debt consolidation              CA          w                    INDIVIDUAL          100\n",
      "       C3         10+ years   RENT            Source Verified      n           debt_consolidation  Debt consolidation              CA          w                    INDIVIDUAL           99\n",
      "A      A5         10+ years   MORTGAGE        Source Verified      n           debt_consolidation  Debt consolidation              CA          w                    INDIVIDUAL           98\n",
      "C      C4         10+ years   RENT            Source Verified      n           debt_consolidation  Debt consolidation              CA          w                    INDIVIDUAL           94\n",
      "                                                                                                                                                                                       ... \n",
      "                  7 years     MORTGAGE        Verified             n           credit_card         PAYOFFCC                        FL          f                    INDIVIDUAL            1\n",
      "                                                                                                   Loan to consolidate and manage  CO          f                    INDIVIDUAL            1\n",
      "                                                                                                   LOAN                            MD          f                    INDIVIDUAL            1\n",
      "                                                                                                   Home Improvement                UT          f                    INDIVIDUAL            1\n",
      "A      A1         1 year      MORTGAGE        Not Verified         n           credit_card         CC Debt                         IL          f                    INDIVIDUAL            1\n",
      "Length: 317141, dtype: int64\n",
      "B    152713\n",
      "C    147499\n",
      "A     89107\n",
      "D     83567\n",
      "E     42495\n",
      "F     13826\n",
      "G      3221\n",
      "Name: grade, dtype: int64\n",
      "B3    33844\n",
      "B4    33198\n",
      "C1    31975\n",
      "C2    31356\n",
      "C3    30080\n",
      "B2    29390\n",
      "B5    29313\n",
      "C4    29103\n",
      "A5    27016\n",
      "B1    26968\n",
      "C5    24985\n",
      "D1    21712\n",
      "A4    20823\n",
      "D2    17991\n",
      "D3    15771\n",
      "D4    15226\n",
      "A3    14082\n",
      "A1    13653\n",
      "A2    13533\n",
      "D5    12867\n",
      "E1    10928\n",
      "E2    10255\n",
      "E3     8488\n",
      "E4     7051\n",
      "E5     5773\n",
      "F1     4350\n",
      "F2     3196\n",
      "F3     2708\n",
      "F4     2056\n",
      "F5     1516\n",
      "G1     1112\n",
      "G2      824\n",
      "G3      559\n",
      "G4      391\n",
      "G5      335\n",
      "Name: sub_grade, dtype: int64\n",
      "10+ years    175105\n",
      "2 years       47276\n",
      "< 1 year      42253\n",
      "3 years       42175\n",
      "1 year        34202\n",
      "5 years       33393\n",
      "4 years       31581\n",
      "U             26891\n",
      "7 years       26680\n",
      "8 years       26443\n",
      "6 years       25741\n",
      "9 years       20688\n",
      "Name: emp_length, dtype: int64\n",
      "MORTGAGE    265940\n",
      "RENT        213668\n",
      "OWN          52664\n",
      "OTHER          117\n",
      "NONE            36\n",
      "ANY              3\n",
      "Name: home_ownership, dtype: int64\n",
      "Source Verified    197750\n",
      "Verified           174702\n",
      "Not Verified       159976\n",
      "Name: verification_status, dtype: int64\n",
      "n    532420\n",
      "y         8\n",
      "Name: pymnt_plan, dtype: int64\n",
      "debt_consolidation    314989\n",
      "credit_card           123670\n",
      "home_improvement       31087\n",
      "other                  25652\n",
      "major_purchase         10284\n",
      "small_business          6146\n",
      "car                     5266\n",
      "medical                 5117\n",
      "moving                  3243\n",
      "vacation                2812\n",
      "house                   2170\n",
      "wedding                 1401\n",
      "renewable_energy         331\n",
      "educational              260\n",
      "Name: purpose, dtype: int64\n",
      "Debt consolidation                  248967\n",
      "Credit card refinancing              98582\n",
      "Home improvement                     24057\n",
      "Other                                19053\n",
      "Debt Consolidation                    9932\n",
      "                                     ...  \n",
      "Loan to buy Home                         1\n",
      "Turbo cash                               1\n",
      "Refinancing and Dumping Debt             1\n",
      "2013 New Start-eliminating of cc         1\n",
      "For medical and legal costs              1\n",
      "Name: title, Length: 39694, dtype: int64\n",
      "CA    77911\n",
      "NY    44406\n",
      "TX    42527\n",
      "FL    36575\n",
      "IL    21205\n",
      "NJ    20103\n",
      "PA    18882\n",
      "OH    17778\n",
      "GA    17292\n",
      "VA    15826\n",
      "NC    14812\n",
      "MI    13869\n",
      "MD    12667\n",
      "MA    12385\n",
      "AZ    12320\n",
      "WA    11664\n",
      "CO    11233\n",
      "MN     9577\n",
      "MO     8538\n",
      "IN     8197\n",
      "CT     8075\n",
      "TN     7817\n",
      "NV     7408\n",
      "WI     6880\n",
      "AL     6699\n",
      "OR     6549\n",
      "SC     6331\n",
      "LA     6304\n",
      "KY     5140\n",
      "KS     4818\n",
      "OK     4797\n",
      "AR     3988\n",
      "UT     3829\n",
      "NM     2958\n",
      "HI     2705\n",
      "WV     2615\n",
      "NH     2568\n",
      "RI     2322\n",
      "MS     2296\n",
      "MT     1545\n",
      "DE     1512\n",
      "DC     1477\n",
      "AK     1346\n",
      "WY     1198\n",
      "SD     1091\n",
      "VT     1062\n",
      "NE      709\n",
      "ME      324\n",
      "ND      284\n",
      "IA        7\n",
      "ID        7\n",
      "Name: addr_state, dtype: int64\n",
      "f    274018\n",
      "w    258410\n",
      "Name: initial_list_status, dtype: int64\n",
      "INDIVIDUAL    532123\n",
      "JOINT            305\n",
      "Name: application_type, dtype: int64\n"
     ]
    }
   ],
   "source": [
    "print(df_cat.value_counts())\n",
    "print(df_cat['grade'].value_counts())\n",
    "print(df_cat['sub_grade'].value_counts())\n",
    "print(df_cat['emp_length'].value_counts())\n",
    "print(df_cat['home_ownership'].value_counts()) \n",
    "print(df_cat['verification_status'].value_counts())\n",
    "print(df_cat['pymnt_plan'].value_counts())\n",
    "print(df_cat['purpose'].value_counts())\n",
    "print(df_cat['title'].value_counts())\n",
    "print(df_cat['addr_state'].value_counts())\n",
    "print(df_cat['initial_list_status'].value_counts())\n",
    "print(df_cat['application_type'].value_counts())"
   ]
  },
  {
   "cell_type": "code",
   "execution_count": 30,
   "metadata": {
    "colab": {
     "base_uri": "https://localhost:8080/"
    },
    "id": "MlTw5DopZsUv",
    "outputId": "e1508577-6f42-40dc-d873-2cadb56229d6"
   },
   "outputs": [
    {
     "data": {
      "text/plain": [
       "Index(['grade', 'sub_grade', 'emp_length', 'home_ownership',\n",
       "       'verification_status', 'pymnt_plan', 'purpose', 'title', 'addr_state',\n",
       "       'initial_list_status', 'application_type'],\n",
       "      dtype='object')"
      ]
     },
     "execution_count": 30,
     "metadata": {},
     "output_type": "execute_result"
    }
   ],
   "source": [
    "df_cat.columns"
   ]
  },
  {
   "cell_type": "code",
   "execution_count": 31,
   "metadata": {
    "id": "UTgaiDtAaXjk"
   },
   "outputs": [],
   "source": [
    "df_cat_new = df_cat.drop(['title', 'pymnt_plan', 'sub_grade', 'addr_state'], axis=1)"
   ]
  },
  {
   "cell_type": "code",
   "execution_count": 32,
   "metadata": {
    "colab": {
     "base_uri": "https://localhost:8080/"
    },
    "id": "Etx0hoQn2T9x",
    "outputId": "8da0304d-6e55-4c76-c09f-edac008a223f"
   },
   "outputs": [
    {
     "data": {
      "text/plain": [
       "<532428x46 sparse matrix of type '<class 'numpy.float64'>'\n",
       "\twith 3726996 stored elements in Compressed Sparse Row format>"
      ]
     },
     "execution_count": 32,
     "metadata": {},
     "output_type": "execute_result"
    }
   ],
   "source": [
    "df_cat_1hot = cat_encoder.fit_transform(df_cat_new)\n",
    "df_cat_1hot"
   ]
  },
  {
   "cell_type": "code",
   "execution_count": 33,
   "metadata": {
    "id": "YFyNcxyb3ZHm"
   },
   "outputs": [],
   "source": [
    "df_cat_1hot = df_cat_1hot.toarray()"
   ]
  },
  {
   "cell_type": "code",
   "execution_count": 34,
   "metadata": {
    "colab": {
     "base_uri": "https://localhost:8080/"
    },
    "id": "yg8D0cS32iTu",
    "outputId": "0aa53821-7158-4c7e-f413-5909cf84677f"
   },
   "outputs": [
    {
     "data": {
      "text/plain": [
       "(532428, 46)"
      ]
     },
     "execution_count": 34,
     "metadata": {},
     "output_type": "execute_result"
    }
   ],
   "source": [
    "df_cat_1hot.shape"
   ]
  },
  {
   "cell_type": "code",
   "execution_count": 35,
   "metadata": {
    "id": "MXpSsrRw8b9m"
   },
   "outputs": [],
   "source": [
    "df_cat_1hot = pd.DataFrame(df_cat_1hot)"
   ]
  },
  {
   "cell_type": "code",
   "execution_count": 36,
   "metadata": {
    "id": "KjnYtayeeH2r"
   },
   "outputs": [],
   "source": [
    "df_new = pd.concat([df_num, df_cat_1hot], axis=1)"
   ]
  },
  {
   "cell_type": "code",
   "execution_count": 37,
   "metadata": {
    "colab": {
     "base_uri": "https://localhost:8080/"
    },
    "id": "Nu13RIJDfiWz",
    "outputId": "685fbacc-5c8d-4436-b60d-a23d74c3228b"
   },
   "outputs": [
    {
     "data": {
      "text/plain": [
       "(532428, 69)"
      ]
     },
     "execution_count": 37,
     "metadata": {},
     "output_type": "execute_result"
    }
   ],
   "source": [
    "df_new.shape"
   ]
  },
  {
   "cell_type": "code",
   "execution_count": 39,
   "metadata": {
    "id": "oPdtdl5_f9gw"
   },
   "outputs": [],
   "source": [
    "df_new.to_csv('X.csv')"
   ]
  },
  {
   "cell_type": "code",
   "execution_count": 40,
   "metadata": {
    "colab": {
     "base_uri": "https://localhost:8080/"
    },
    "id": "ZuDDDl50nxOw",
    "outputId": "648159eb-9860-44e8-e871-8a8e02576686"
   },
   "outputs": [
    {
     "data": {
      "text/plain": [
       "0    406601\n",
       "1    125827\n",
       "Name: loan_status, dtype: int64"
      ]
     },
     "execution_count": 40,
     "metadata": {},
     "output_type": "execute_result"
    }
   ],
   "source": [
    "df['loan_status'].value_counts()"
   ]
  },
  {
   "cell_type": "code",
   "execution_count": 41,
   "metadata": {
    "id": "Cz0rmWT6fqEU"
   },
   "outputs": [],
   "source": [
    "X = np.array(df_new)\n",
    "Y = np.array(df['loan_status'])"
   ]
  },
  {
   "cell_type": "code",
   "execution_count": 42,
   "metadata": {
    "colab": {
     "base_uri": "https://localhost:8080/"
    },
    "id": "tMTYfwYUg9Aj",
    "outputId": "314c4bcf-b7fb-48e7-93b0-f9590bab77a5"
   },
   "outputs": [
    {
     "name": "stdout",
     "output_type": "stream",
     "text": [
      "X shape: (532428, 69)\n",
      "Y shape:  (532428,)\n"
     ]
    }
   ],
   "source": [
    "print('X shape: {}'.format(X.shape))\n",
    "print('Y shape:  {}'.format(Y.shape))"
   ]
  },
  {
   "cell_type": "code",
   "execution_count": 43,
   "metadata": {
    "id": "UcZt6KFuhJ9T"
   },
   "outputs": [],
   "source": [
    "from sklearn.model_selection import train_test_split\n",
    "x_train, x_test, y_train, y_test = train_test_split(X, Y, test_size=0.2, random_state=42)"
   ]
  },
  {
   "cell_type": "code",
   "execution_count": 44,
   "metadata": {
    "colab": {
     "base_uri": "https://localhost:8080/"
    },
    "id": "f0MetXEbrSEF",
    "outputId": "8de25515-6546-4b80-a444-449e4b26507b"
   },
   "outputs": [
    {
     "data": {
      "text/plain": [
       "StandardScaler()"
      ]
     },
     "execution_count": 44,
     "metadata": {},
     "output_type": "execute_result"
    }
   ],
   "source": [
    "from sklearn.preprocessing import StandardScaler\n",
    "std_scl = StandardScaler()\n",
    "std_scl.fit(x_train)"
   ]
  },
  {
   "cell_type": "code",
   "execution_count": 45,
   "metadata": {
    "id": "y1EVazyZri91"
   },
   "outputs": [],
   "source": [
    "x_train = std_scl.transform(x_train)\n",
    "x_test = std_scl.transform(x_test)"
   ]
  },
  {
   "cell_type": "code",
   "execution_count": 46,
   "metadata": {
    "id": "lLInQUkPg9JW"
   },
   "outputs": [],
   "source": [
    "from sklearn.ensemble import RandomForestClassifier\n",
    "forest_clf = RandomForestClassifier(random_state=42, n_jobs=-1)\n",
    "#forest_clf.fit(x_train, y_train)"
   ]
  },
  {
   "cell_type": "code",
   "execution_count": 47,
   "metadata": {
    "id": "zXsiM37Iu3Qm"
   },
   "outputs": [],
   "source": [
    "# print('parameters:')\n",
    "# pprint(forest_clf.get_params())"
   ]
  },
  {
   "cell_type": "code",
   "execution_count": 48,
   "metadata": {
    "id": "TizNaXubg9MN"
   },
   "outputs": [],
   "source": [
    "#y_pred = forest_clf.predict(x_test)"
   ]
  },
  {
   "cell_type": "code",
   "execution_count": 49,
   "metadata": {
    "id": "448d2MkVg9PI"
   },
   "outputs": [],
   "source": [
    "# from sklearn.metrics import  confusion_matrix, classification_report, roc_auc_score, f1_score\n",
    "# print(classification_report(y_pred, y_test))\n",
    "# print(confusion_matrix(y_pred, y_test))\n",
    "# print('roc auc score: {}'.format(roc_auc_score(y_pred,y_test)))\n",
    "# print('f1 score: {}'.format(f1_score(y_pred,y_test)))"
   ]
  },
  {
   "cell_type": "code",
   "execution_count": 50,
   "metadata": {
    "colab": {
     "base_uri": "https://localhost:8080/"
    },
    "id": "vVMCfW3Mg9R_",
    "outputId": "5b41c3fb-8967-4e74-8d4d-5f5790151344"
   },
   "outputs": [
    {
     "name": "stdout",
     "output_type": "stream",
     "text": [
      "{'bootstrap': [True, False],\n",
      " 'max_depth': [10, 110, None],\n",
      " 'max_features': ['auto', 'sqrt'],\n",
      " 'min_samples_leaf': [1, 2, 4],\n",
      " 'min_samples_split': [2, 5, 10],\n",
      " 'n_estimators': [200, 2000]}\n"
     ]
    }
   ],
   "source": [
    "from sklearn.model_selection import RandomizedSearchCV# Number of trees in random forest\n",
    "n_estimators = [int(x) for x in np.linspace(start = 200, stop = 2000, num = 2)]\n",
    "# Number of features to consider at every split\n",
    "max_features = ['auto', 'sqrt']\n",
    "# Maximum number of levels in tree\n",
    "max_depth = [int(x) for x in np.linspace(10, 110, num = 2)]\n",
    "max_depth.append(None)\n",
    "# Minimum number of samples required to split a node\n",
    "min_samples_split = [2, 5, 10]\n",
    "# Minimum number of samples required at each leaf node\n",
    "min_samples_leaf = [1, 2, 4]\n",
    "# Method of selecting samples for training each tree\n",
    "bootstrap = [True, False]# Create the random grid\n",
    "random_grid = {'n_estimators': n_estimators,\n",
    "               'max_features': max_features,\n",
    "               'max_depth': max_depth,\n",
    "               'min_samples_split': min_samples_split,\n",
    "               'min_samples_leaf': min_samples_leaf,\n",
    "               'bootstrap': bootstrap}\n",
    "pprint(random_grid)"
   ]
  },
  {
   "cell_type": "code",
   "execution_count": null,
   "metadata": {
    "id": "4BmbbWUfg9VV"
   },
   "outputs": [],
   "source": [
    "# Use the random grid to search for best hyperparameters\n",
    "# First create the base model to tune\n",
    "# Random search of parameters, using 3 fold cross validation, \n",
    "# search across 100 different combinations, and use all available cores\n",
    "rf_random = RandomizedSearchCV(estimator = forest_clf, param_distributions = random_grid, n_iter = 100, cv = 3, verbose=0, random_state=42)# Fit the random search model\n",
    "rf_random.fit(x_train, y_train)"
   ]
  },
  {
   "cell_type": "code",
   "execution_count": null,
   "metadata": {
    "id": "g_i5Jtwrg9X9"
   },
   "outputs": [],
   "source": []
  }
 ],
 "metadata": {
  "colab": {
   "name": "loanmodel.ipynb",
   "provenance": []
  },
  "kernelspec": {
   "display_name": "Python 3",
   "language": "python",
   "name": "python3"
  },
  "language_info": {
   "codemirror_mode": {
    "name": "ipython",
    "version": 3
   },
   "file_extension": ".py",
   "mimetype": "text/x-python",
   "name": "python",
   "nbconvert_exporter": "python",
   "pygments_lexer": "ipython3",
   "version": "3.8.5"
  }
 },
 "nbformat": 4,
 "nbformat_minor": 1
}
