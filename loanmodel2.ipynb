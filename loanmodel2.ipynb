{
  "nbformat": 4,
  "nbformat_minor": 0,
  "metadata": {
    "colab": {
      "name": "loanmodel2.ipynb",
      "provenance": []
    },
    "kernelspec": {
      "name": "python3",
      "display_name": "Python 3"
    },
    "language_info": {
      "name": "python"
    },
    "accelerator": "GPU"
  },
  "cells": [
    {
      "cell_type": "code",
      "metadata": {
        "colab": {
          "base_uri": "https://localhost:8080/"
        },
        "id": "PML4pLiZzegd",
        "outputId": "7cb5d370-414b-4fdd-f39d-f633fbe61237"
      },
      "source": [
        "import numpy as np\n",
        "import pandas as pd\n",
        "import seaborn as sns\n",
        "import matplotlib.pyplot as plt\n",
        "from pprint import pprint\n",
        "from sklearn.model_selection import StratifiedKFold\n",
        "\n",
        "df = pd.read_csv('/content/drive/MyDrive/DATA/train_indessa.csv')\n",
        "\n",
        "from sklearn.impute import SimpleImputer\n",
        "imputer = SimpleImputer(strategy = 'median')\n",
        "\n",
        "df_num = df.drop(['member_id', 'funded_amnt', 'funded_amnt_inv', 'term', 'batch_enrolled', \n",
        "                  'grade', 'sub_grade', 'emp_title', 'emp_length', 'home_ownership','verification_status','pymnt_plan', 'desc', 'purpose', 'title', 'zip_code',\n",
        "                  'addr_state', 'initial_list_status', 'application_type', 'verification_status_joint', 'last_week_pay', 'loan_status'], axis = 1)\n",
        "\n",
        "print(df_num.columns)\n",
        "df_num_columns = df_num.columns\n",
        "\n",
        "df_num = imputer.fit_transform(df_num)\n",
        "\n",
        "df_num = pd.DataFrame(data = df_num, columns= df_num_columns)\n",
        "\n",
        "df_cat = df[[ 'grade', 'sub_grade', 'emp_length', 'home_ownership','verification_status','pymnt_plan', 'purpose', 'title', \n",
        "                  'addr_state', 'initial_list_status', 'application_type']]\n",
        "\n",
        "from sklearn.preprocessing import OneHotEncoder\n",
        "cat_encoder = OneHotEncoder()\n",
        "\n",
        "df_cat_columns = df_cat.columns\n",
        "\n",
        "df_cat['emp_length'] = df_cat['emp_length'].fillna('U')\n",
        "df_cat['title'] = df_cat['title'].fillna('V')\n",
        "\n",
        "df_cat_new = df_cat.drop(['title', 'pymnt_plan', 'sub_grade', 'addr_state'], axis=1)\n",
        "\n",
        "df_cat_1hot = cat_encoder.fit_transform(df_cat_new)\n",
        "df_cat_1hot = df_cat_1hot.toarray()\n",
        "df_cat_1hot = pd.DataFrame(df_cat_1hot)\n",
        "df_new = pd.concat([df_num, df_cat_1hot], axis=1)\n",
        "\n",
        "X = np.array(df_new)\n",
        "Y = np.array(df['loan_status'])\n",
        "\n",
        "from sklearn.model_selection import train_test_split\n",
        "x_train, x_test, y_train, y_test = train_test_split(X, Y, test_size=0.2, random_state=42)\n",
        "\n",
        "from sklearn.preprocessing import StandardScaler\n",
        "std_scl = StandardScaler()\n",
        "std_scl.fit(x_train)\n",
        "\n",
        "x_train = std_scl.transform(x_train)\n",
        "x_test = std_scl.transform(x_test)\n",
        "\n",
        "from sklearn.model_selection import RandomizedSearchCV\n",
        "from xgboost import XGBClassifier\n",
        "xgb = XGBClassifier(base_score=0.5, booster='gbtree', colsample_bylevel=1,\n",
        "              colsample_bynode=1, colsample_bytree=0.8, gamma=4,\n",
        "              learning_rate=0.02, max_delta_step=0, max_depth=15,\n",
        "              min_child_weight=2, missing=None, n_estimators=600, n_jobs=1,\n",
        "              nthread=1, objective='binary:logistic', random_state=0,\n",
        "              reg_alpha=0, reg_lambda=1, scale_pos_weight=1, seed=None,\n",
        "              silent=True, subsample=0.8, tree_method='gpu_hist', verbosity=1)\n",
        "\n",
        "xgb.fit(x_train,y_train)\n",
        "y_pred = xgb.predict(x_test)\n",
        "\n",
        "from sklearn.metrics import  confusion_matrix, classification_report, roc_auc_score, f1_score\n",
        "print(classification_report(y_pred, y_test))\n",
        "print(confusion_matrix(y_pred, y_test))\n",
        "print('roc auc score: {}'.format(roc_auc_score(y_pred,y_test)))\n",
        "print('f1 score: {}'.format(f1_score(y_pred,y_test)))"
      ],
      "execution_count": null,
      "outputs": [
        {
          "output_type": "stream",
          "text": [
            "Index(['loan_amnt', 'int_rate', 'annual_inc', 'dti', 'delinq_2yrs',\n",
            "       'inq_last_6mths', 'mths_since_last_delinq', 'mths_since_last_record',\n",
            "       'open_acc', 'pub_rec', 'revol_bal', 'revol_util', 'total_acc',\n",
            "       'total_rec_int', 'total_rec_late_fee', 'recoveries',\n",
            "       'collection_recovery_fee', 'collections_12_mths_ex_med',\n",
            "       'mths_since_last_major_derog', 'acc_now_delinq', 'tot_coll_amt',\n",
            "       'tot_cur_bal', 'total_rev_hi_lim'],\n",
            "      dtype='object')\n"
          ],
          "name": "stdout"
        },
        {
          "output_type": "stream",
          "text": [
            "/usr/local/lib/python3.7/dist-packages/ipykernel_launcher.py:32: SettingWithCopyWarning: \n",
            "A value is trying to be set on a copy of a slice from a DataFrame.\n",
            "Try using .loc[row_indexer,col_indexer] = value instead\n",
            "\n",
            "See the caveats in the documentation: https://pandas.pydata.org/pandas-docs/stable/user_guide/indexing.html#returning-a-view-versus-a-copy\n",
            "/usr/local/lib/python3.7/dist-packages/ipykernel_launcher.py:33: SettingWithCopyWarning: \n",
            "A value is trying to be set on a copy of a slice from a DataFrame.\n",
            "Try using .loc[row_indexer,col_indexer] = value instead\n",
            "\n",
            "See the caveats in the documentation: https://pandas.pydata.org/pandas-docs/stable/user_guide/indexing.html#returning-a-view-versus-a-copy\n"
          ],
          "name": "stderr"
        },
        {
          "output_type": "stream",
          "text": [
            "              precision    recall  f1-score   support\n",
            "\n",
            "           0       0.97      0.88      0.93     89835\n",
            "           1       0.58      0.87      0.69     16651\n",
            "\n",
            "    accuracy                           0.88    106486\n",
            "   macro avg       0.77      0.87      0.81    106486\n",
            "weighted avg       0.91      0.88      0.89    106486\n",
            "\n",
            "[[79216 10619]\n",
            " [ 2213 14438]]\n",
            "roc auc score: 0.8744447351055994\n",
            "f1 score: 0.6923372014961158\n"
          ],
          "name": "stdout"
        }
      ]
    },
    {
      "cell_type": "code",
      "metadata": {
        "colab": {
          "base_uri": "https://localhost:8080/"
        },
        "id": "IJFjs5rB1u8h",
        "outputId": "fea94935-bad1-420f-9249-b6919ba78bf1"
      },
      "source": [
        "df_test = pd.read_csv('/content/drive/MyDrive/DATA/test_indessa.csv')\n",
        "df_test_num = df_test.drop(['member_id', 'funded_amnt', 'funded_amnt_inv', 'term', 'batch_enrolled', \n",
        "                  'grade', 'sub_grade', 'emp_title', 'emp_length', 'home_ownership','verification_status','pymnt_plan', 'desc', 'purpose', 'title', 'zip_code',\n",
        "                  'addr_state', 'initial_list_status', 'application_type', 'verification_status_joint', 'last_week_pay'], axis = 1)\n",
        "df_test_num = imputer.fit_transform(df_test_num)\n",
        "df_test_num = pd.DataFrame(data = df_test_num)\n",
        "df_test_cat = df_test[[ 'grade', 'sub_grade', 'emp_length', 'home_ownership','verification_status','pymnt_plan', 'purpose', 'title', \n",
        "                  'addr_state', 'initial_list_status', 'application_type']]\n",
        "df_test_cat['emp_length'] = df_test_cat['emp_length'].fillna('U')\n",
        "df_test_cat['title'] = df_test_cat['title'].fillna('V')\n",
        "df_cattest_new = df_test_cat.drop(['title', 'pymnt_plan', 'sub_grade', 'addr_state'], axis=1)\n",
        "cat_encoder.fit(df_cat_new)\n",
        "df_cattest_new = cat_encoder.transform(df_cattest_new)\n",
        "df_cattest_new = df_cattest_new.toarray()\n",
        "df_cattest = pd.DataFrame(df_cattest_new)\n",
        "df_test_new = pd.concat([df_test_num, df_cattest], axis=1)\n",
        "x_test_new = np.array(df_test_new)\n",
        "print(df_test_new.shape)\n",
        "std_scl = StandardScaler()\n",
        "std_scl.fit(x_train)\n",
        "x_test = std_scl.fit_transform(x_test_new)\n",
        "# x_test_new = np.array(df_test_new)\n",
        "# x_test = std_scl.transform(x_test_new)\n",
        "type(x_test)\n",
        "y_pred = xgb.predict(x_test)\n",
        "y_pred = pd.DataFrame(y_pred)\n",
        "y_pred.to_csv('/content/drive/MyDrive/DATA/test_pred.csv', index=True)"
      ],
      "execution_count": null,
      "outputs": [
        {
          "output_type": "stream",
          "text": [
            "/usr/local/lib/python3.7/dist-packages/ipykernel_launcher.py:9: SettingWithCopyWarning: \n",
            "A value is trying to be set on a copy of a slice from a DataFrame.\n",
            "Try using .loc[row_indexer,col_indexer] = value instead\n",
            "\n",
            "See the caveats in the documentation: https://pandas.pydata.org/pandas-docs/stable/user_guide/indexing.html#returning-a-view-versus-a-copy\n",
            "  if __name__ == '__main__':\n",
            "/usr/local/lib/python3.7/dist-packages/ipykernel_launcher.py:10: SettingWithCopyWarning: \n",
            "A value is trying to be set on a copy of a slice from a DataFrame.\n",
            "Try using .loc[row_indexer,col_indexer] = value instead\n",
            "\n",
            "See the caveats in the documentation: https://pandas.pydata.org/pandas-docs/stable/user_guide/indexing.html#returning-a-view-versus-a-copy\n",
            "  # Remove the CWD from sys.path while we load stuff.\n"
          ],
          "name": "stderr"
        },
        {
          "output_type": "stream",
          "text": [
            "(354951, 69)\n"
          ],
          "name": "stdout"
        }
      ]
    },
    {
      "cell_type": "code",
      "metadata": {
        "colab": {
          "base_uri": "https://localhost:8080/",
          "height": 207
        },
        "id": "y0gcIpGx6Cpy",
        "outputId": "db8a46fd-a7fd-4ab1-d275-67a3b1d33b89"
      },
      "source": [
        "y_pred.head()"
      ],
      "execution_count": null,
      "outputs": [
        {
          "output_type": "execute_result",
          "data": {
            "text/html": [
              "<div>\n",
              "<style scoped>\n",
              "    .dataframe tbody tr th:only-of-type {\n",
              "        vertical-align: middle;\n",
              "    }\n",
              "\n",
              "    .dataframe tbody tr th {\n",
              "        vertical-align: top;\n",
              "    }\n",
              "\n",
              "    .dataframe thead th {\n",
              "        text-align: right;\n",
              "    }\n",
              "</style>\n",
              "<table border=\"1\" class=\"dataframe\">\n",
              "  <thead>\n",
              "    <tr style=\"text-align: right;\">\n",
              "      <th></th>\n",
              "      <th>0</th>\n",
              "    </tr>\n",
              "  </thead>\n",
              "  <tbody>\n",
              "    <tr>\n",
              "      <th>0</th>\n",
              "      <td>0</td>\n",
              "    </tr>\n",
              "    <tr>\n",
              "      <th>1</th>\n",
              "      <td>0</td>\n",
              "    </tr>\n",
              "    <tr>\n",
              "      <th>2</th>\n",
              "      <td>0</td>\n",
              "    </tr>\n",
              "    <tr>\n",
              "      <th>3</th>\n",
              "      <td>0</td>\n",
              "    </tr>\n",
              "    <tr>\n",
              "      <th>4</th>\n",
              "      <td>0</td>\n",
              "    </tr>\n",
              "  </tbody>\n",
              "</table>\n",
              "</div>"
            ],
            "text/plain": [
              "   0\n",
              "0  0\n",
              "1  0\n",
              "2  0\n",
              "3  0\n",
              "4  0"
            ]
          },
          "metadata": {
            "tags": []
          },
          "execution_count": 10
        }
      ]
    }
  ]
}